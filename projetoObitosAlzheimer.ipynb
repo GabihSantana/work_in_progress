{
 "cells": [
  {
   "cell_type": "markdown",
   "metadata": {},
   "source": [
    "# 1. Problema de Negócio"
   ]
  },
  {
   "cell_type": "markdown",
   "metadata": {},
   "source": [
    "Identificar o algoritmo que possuí a maior taxa de aprendizado"
   ]
  },
  {
   "cell_type": "markdown",
   "metadata": {},
   "source": [
    "# 2. Conexão e Análise dos Dados"
   ]
  },
  {
   "cell_type": "code",
   "execution_count": 4,
   "metadata": {},
   "outputs": [],
   "source": [
    "# Importando os pacotes\n",
    "\n",
    "import pandas as pd\n",
    "import numpy as np\n",
    "import seaborn as sns\n",
    "import matplotlib.pyplot as plt\n",
    "import scipy\n",
    "from sklearn import preprocessing"
   ]
  },
  {
   "cell_type": "code",
   "execution_count": 5,
   "metadata": {},
   "outputs": [],
   "source": [
    "# Pegando as colunas\n",
    "\n",
    "col_names = pd.read_csv('dados_filtrados.csv', nrows=0).columns"
   ]
  },
  {
   "cell_type": "code",
   "execution_count": 6,
   "metadata": {},
   "outputs": [
    {
     "data": {
      "text/plain": [
       "Index(['CONTADOR', 'ORIGEM', 'TIPOBITO', 'DTOBITO', 'HORAOBITO', 'NATURAL0',\n",
       "       'DTNASC', 'IDADE', 'SEXO', 'RACACOR', 'ESTCIV', 'ESC', 'OCUP',\n",
       "       'CODMUNRES', 'LOCOCOR', 'CODESTAB', 'CODMUNOCOR', 'IDADEMAE', 'ESCMAE',\n",
       "       'SERIESCMAE', 'OCUPMAE', 'QTDFILVIVO', 'QTDFILMORT', 'GRAVIDEZ',\n",
       "       'SEMAGESTAC', 'GESTACAO', 'PARTO', 'OBITOPARTO', 'PESO', 'TPMORTEOCO',\n",
       "       'OBITOGRAV', 'OBITOPUERP', 'ASSISTMED', 'EXAME', 'CIRURGIA',\n",
       "       'NECROPSIA', 'LINHAA', 'LINHAB', 'LINHAC', 'LINHAD', 'LINHAII',\n",
       "       'CAUSABAS', 'COMUNSVOIM', 'DTATESTADO', 'CIRCOBITO', 'ACIDTRAB',\n",
       "       'FONTE', 'TPPOS', 'DTINVESTIG', 'CAUSABAS_O', 'DTCADASTRO', 'ATESTANTE',\n",
       "       'FONTEINV', 'DTRECEBIM', 'CAUSAMAT', 'ESC2010', 'ESCMAE2010', 'DIFDATA',\n",
       "       'STDOEPIDEM', 'STDONOVA', 'DTCADINV', 'TPOBITOCOR', 'DTCONINV',\n",
       "       'DTCADINF', 'MORTEPARTO', 'DTCONCASO', 'NUDIASOBIN', 'ANO'],\n",
       "      dtype='object')"
      ]
     },
     "execution_count": 6,
     "metadata": {},
     "output_type": "execute_result"
    }
   ],
   "source": [
    "col_names "
   ]
  },
  {
   "cell_type": "code",
   "execution_count": 7,
   "metadata": {},
   "outputs": [],
   "source": [
    "colunms_str = ['DTOBITO', 'HORAOBITO', 'DTNASC','LINHAA', 'LINHAB', 'LINHAC', 'LINHAD', 'LINHAII',\n",
    "       'CAUSABAS', 'DTATESTADO', 'DTINVESTIG', 'CAUSABAS_O', 'DTCADASTRO', 'DTRECEBIM',  'DIFDATA',\n",
    "       'STDOEPIDEM', 'STDONOVA', 'DTCADINV', 'TPOBITOCOR', 'DTCONINV',\n",
    "       'DTCADINF', 'DTCONCASO']"
   ]
  },
  {
   "cell_type": "code",
   "execution_count": 8,
   "metadata": {},
   "outputs": [],
   "source": [
    "coluns_int = ['CONTADOR', 'ORIGEM', 'TIPOBITO', 'NATURAL0','IDADE', 'SEXO', 'RACACOR', 'ESTCIV', 'ESC', 'OCUP',\n",
    "             'CODMUNRES', 'LOCOCOR', 'CODESTAB', 'CODMUNOCOR', 'IDADEMAE', 'ESCMAE',\n",
    "               'SERIESCMAE', 'OCUPMAE', 'QTDFILVIVO', 'QTDFILMORT', 'GRAVIDEZ',\n",
    "               'SEMAGESTAC', 'GESTACAO', 'PARTO', 'OBITOPARTO', 'PESO', 'TPMORTEOCO',\n",
    "               'OBITOGRAV', 'OBITOPUERP', 'ASSISTMED', 'EXAME', 'CIRURGIA',\n",
    "               'NECROPSIA','COMUNSVOIM', 'CIRCOBITO', 'ACIDTRAB','FONTE','TPPOS','ATESTANTE',\n",
    "               'FONTEINV', 'CAUSAMAT', 'ESC2010', 'ESCMAE2010', 'MORTEPARTO','NUDIASOBIN', 'ANO']"
   ]
  },
  {
   "cell_type": "code",
   "execution_count": 9,
   "metadata": {},
   "outputs": [],
   "source": [
    "# Importando o dataFrame - todos como str\n",
    "\n",
    "df = pd.read_csv('dados_filtrados.csv', sep=',', dtype=str)"
   ]
  },
  {
   "cell_type": "code",
   "execution_count": 10,
   "metadata": {},
   "outputs": [
    {
     "name": "stdout",
     "output_type": "stream",
     "text": [
      "<class 'pandas.core.frame.DataFrame'>\n",
      "RangeIndex: 157952 entries, 0 to 157951\n",
      "Data columns (total 68 columns):\n",
      " #   Column      Non-Null Count   Dtype \n",
      "---  ------      --------------   ----- \n",
      " 0   CONTADOR    157952 non-null  object\n",
      " 1   ORIGEM      157952 non-null  object\n",
      " 2   TIPOBITO    157952 non-null  object\n",
      " 3   DTOBITO     157952 non-null  object\n",
      " 4   HORAOBITO   155198 non-null  object\n",
      " 5   NATURAL0    129541 non-null  object\n",
      " 6   DTNASC      157861 non-null  object\n",
      " 7   IDADE       157952 non-null  object\n",
      " 8   SEXO        157952 non-null  object\n",
      " 9   RACACOR     153560 non-null  object\n",
      " 10  ESTCIV      153950 non-null  object\n",
      " 11  ESC         149470 non-null  object\n",
      " 12  OCUP        139942 non-null  object\n",
      " 13  CODMUNRES   157952 non-null  object\n",
      " 14  LOCOCOR     157952 non-null  object\n",
      " 15  CODESTAB    88002 non-null   object\n",
      " 16  CODMUNOCOR  157952 non-null  object\n",
      " 17  IDADEMAE    0 non-null       object\n",
      " 18  ESCMAE      0 non-null       object\n",
      " 19  SERIESCMAE  0 non-null       object\n",
      " 20  OCUPMAE     0 non-null       object\n",
      " 21  QTDFILVIVO  0 non-null       object\n",
      " 22  QTDFILMORT  0 non-null       object\n",
      " 23  GRAVIDEZ    0 non-null       object\n",
      " 24  SEMAGESTAC  0 non-null       object\n",
      " 25  GESTACAO    0 non-null       object\n",
      " 26  PARTO       0 non-null       object\n",
      " 27  OBITOPARTO  0 non-null       object\n",
      " 28  PESO        0 non-null       object\n",
      " 29  TPMORTEOCO  386 non-null     object\n",
      " 30  OBITOGRAV   393 non-null     object\n",
      " 31  OBITOPUERP  393 non-null     object\n",
      " 32  ASSISTMED   112209 non-null  object\n",
      " 33  EXAME       1566 non-null    object\n",
      " 34  CIRURGIA    1539 non-null    object\n",
      " 35  NECROPSIA   112436 non-null  object\n",
      " 36  LINHAA      152370 non-null  object\n",
      " 37  LINHAB      140046 non-null  object\n",
      " 38  LINHAC      105035 non-null  object\n",
      " 39  LINHAD      53835 non-null   object\n",
      " 40  LINHAII     45074 non-null   object\n",
      " 41  CAUSABAS    157952 non-null  object\n",
      " 42  COMUNSVOIM  11766 non-null   object\n",
      " 43  DTATESTADO  155941 non-null  object\n",
      " 44  CIRCOBITO   741 non-null     object\n",
      " 45  ACIDTRAB    343 non-null     object\n",
      " 46  FONTE       534 non-null     object\n",
      " 47  TPPOS       104460 non-null  object\n",
      " 48  DTINVESTIG  20245 non-null   object\n",
      " 49  CAUSABAS_O  157857 non-null  object\n",
      " 50  DTCADASTRO  157161 non-null  object\n",
      " 51  ATESTANTE   141626 non-null  object\n",
      " 52  FONTEINV    21237 non-null   object\n",
      " 53  DTRECEBIM   156698 non-null  object\n",
      " 54  CAUSAMAT    0 non-null       object\n",
      " 55  ESC2010     146055 non-null  object\n",
      " 56  ESCMAE2010  0 non-null       object\n",
      " 57  DIFDATA     157945 non-null  object\n",
      " 58  STDOEPIDEM  157909 non-null  object\n",
      " 59  STDONOVA    157951 non-null  object\n",
      " 60  DTCADINV    1 non-null       object\n",
      " 61  TPOBITOCOR  1 non-null       object\n",
      " 62  DTCONINV    1 non-null       object\n",
      " 63  DTCADINF    0 non-null       object\n",
      " 64  MORTEPARTO  0 non-null       object\n",
      " 65  DTCONCASO   0 non-null       object\n",
      " 66  NUDIASOBIN  2 non-null       object\n",
      " 67  ANO         157952 non-null  object\n",
      "dtypes: object(68)\n",
      "memory usage: 81.9+ MB\n"
     ]
    }
   ],
   "source": [
    "df.info()"
   ]
  },
  {
   "cell_type": "code",
   "execution_count": 11,
   "metadata": {
    "scrolled": true
   },
   "outputs": [
    {
     "data": {
      "text/plain": [
       "CONTADOR           0\n",
       "ORIGEM             0\n",
       "TIPOBITO           0\n",
       "DTOBITO            0\n",
       "HORAOBITO       2754\n",
       "               ...  \n",
       "DTCADINF      157952\n",
       "MORTEPARTO    157952\n",
       "DTCONCASO     157952\n",
       "NUDIASOBIN    157950\n",
       "ANO                0\n",
       "Length: 68, dtype: int64"
      ]
     },
     "execution_count": 11,
     "metadata": {},
     "output_type": "execute_result"
    }
   ],
   "source": [
    "df.isnull().sum()"
   ]
  },
  {
   "cell_type": "code",
   "execution_count": 12,
   "metadata": {},
   "outputs": [
    {
     "data": {
      "text/plain": [
       "CAUSAMAT      100.000000\n",
       "OCUPMAE       100.000000\n",
       "OBITOPARTO    100.000000\n",
       "PARTO         100.000000\n",
       "GESTACAO      100.000000\n",
       "SEMAGESTAC    100.000000\n",
       "GRAVIDEZ      100.000000\n",
       "QTDFILMORT    100.000000\n",
       "QTDFILVIVO    100.000000\n",
       "SERIESCMAE    100.000000\n",
       "ESCMAE        100.000000\n",
       "IDADEMAE      100.000000\n",
       "ESCMAE2010    100.000000\n",
       "DTCADINF      100.000000\n",
       "MORTEPARTO    100.000000\n",
       "DTCONCASO     100.000000\n",
       "PESO          100.000000\n",
       "TPOBITOCOR     99.999367\n",
       "DTCADINV       99.999367\n",
       "DTCONINV       99.999367\n",
       "NUDIASOBIN     99.998734\n",
       "ACIDTRAB       99.782845\n",
       "TPMORTEOCO     99.755622\n",
       "OBITOPUERP     99.751190\n",
       "OBITOGRAV      99.751190\n",
       "FONTE          99.661923\n",
       "CIRCOBITO      99.530870\n",
       "CIRURGIA       99.025653\n",
       "EXAME          99.008560\n",
       "COMUNSVOIM     92.550902\n",
       "DTINVESTIG     87.182815\n",
       "FONTEINV       86.554776\n",
       "LINHAII        71.463483\n",
       "LINHAD         65.916861\n",
       "CODESTAB       44.285606\n",
       "TPPOS          33.865985\n",
       "LINHAC         33.501950\n",
       "ASSISTMED      28.960064\n",
       "NECROPSIA      28.816349\n",
       "NATURAL0       17.987110\n",
       "OCUP           11.402198\n",
       "LINHAB         11.336355\n",
       "ATESTANTE      10.336051\n",
       "ESC2010         7.532035\n",
       "ESC             5.369986\n",
       "LINHAA          3.533985\n",
       "RACACOR         2.780592\n",
       "ESTCIV          2.533681\n",
       "HORAOBITO       1.743568\n",
       "DTATESTADO      1.273172\n",
       "DTRECEBIM       0.793912\n",
       "DTCADASTRO      0.500785\n",
       "CAUSABAS_O      0.060145\n",
       "DTNASC          0.057612\n",
       "STDOEPIDEM      0.027223\n",
       "DIFDATA         0.004432\n",
       "STDONOVA        0.000633\n",
       "dtype: float64"
      ]
     },
     "execution_count": 12,
     "metadata": {},
     "output_type": "execute_result"
    }
   ],
   "source": [
    "# Calculando o percentual dos dados que estão em branco\n",
    "\n",
    "percentual_nulos = (df.isnull().sum() / len(df)) * 100\n",
    "percentual_nulos[percentual_nulos > 0].sort_values(ascending=False)"
   ]
  },
  {
   "cell_type": "markdown",
   "metadata": {},
   "source": [
    "- **Contador:** ID ordenado dos registros na tabela - Descartar Coluna\n",
    "- **Origem:** Banco de dados de Origem da Informação - Descartar Coluna\n",
    "- **TIPOBITO:** Óbito Fetal - Morte antes do nascimento - Descartar Coluna para o Estudo sobre alzheimer\n",
    "- **DtObito:** Data em que ocorreu o óbito - Descartar a coluna\n",
    "- **HORAOBITO:** Hora do óbito - Descartar a coluna\n",
    "- **Natural0:** País e Unidade de Federação onde o falecido nasceu - 17% de dados faltantes - Int\n",
    "- **DTNASC:** Data de Nascimento - Descartar a coluna\n",
    "- **Idade:** Idade do Falecido codificada - Int\n",
    "- **Sexo:** Sexo do Falecido - Int\n",
    "- **RacaCor:** Cor informada pelo responsável das informações do falecido - 2% de dados faltantes - Int\n",
    "- **EstCiv:** Estado Civíl do falecido - 2% de dados faltantes - Int\n",
    "- **Esc:** Escolaridade em anos - 5% de dados faltantes - Int\n",
    "- **OCUP:** Tipo de trabalho que o falecido desenvolveu na maior parte da sua vida produtiva - 11% de dados faltantes - Int\n",
    "- **CodMunRes:** Código do município de residência.\n",
    "- **LOCOCOR:** Local de ocorrência do óbito - Int\n",
    "- **CODESTAB:** Código do Estabelecimento - Descartar Coluna\n",
    "- **CODMUNOCOR:** Código relativo ao município onde ocorreu o óbito - Int\n",
    "- **IdadeMae:** Idade da mae - 100% de dados faltantes - Descartar coluna\n",
    "- **ESCMAE:** Escolaridade da mãe - 100% de dados faltantes - Descartar coluna\n",
    "- **SERIESCMAE:** Última série escolar concluída pela mãe - 100% de dados faltantes - Descartar coluna\n",
    "- **OCUPMAE:** Tipo de trabalho exercido habitualmente pela Mãe - 100% de dados faltantes - Descartar Coluna\n",
    "- **QTDFILVIVO:** Número de filhos vivos - 100% de dados faltantes - Descartar Coluna\n",
    "- **QTDFILMORT:** Número de filhos mortos - 100% de dados faltantes - Descartar Coluna\n",
    "- **GRAVIDEZ:** Óbito na gravidez - 100% de dados faltantes - Descartar Coluna\n",
    "- **SEMAGESTAC:** Semanas de gestação - 100% de dados faltantes - Descartar Coluna\n",
    "- **GESTACAO:** Faixas de semanas de gestação - 100% de dados faltantes - Descartar Coluna\n",
    "- **PARTO:** Tipo de parto - 100% de dados faltantes - Descartar Coluna\n",
    "- **OBITOPARTO:** Óbito na gravidez - 100% de dados faltantes - Descartar Coluna\n",
    "- **PESO:** Peso ao nascer em gramas - 100% de dados faltantes - Descartar Coluna\n",
    "- **TPMORTEOCO:** Situação gestacional ou pósgestacional em que ocorreu o óbito - 99% de dados faltantes - Descartar Coluna\n",
    "- **OBITOGRAV:** Óbito na gravidez - 99% de dados faltantes - Descartar Coluna\n",
    "- **OBITOPUERP:** Óbito no puerpério - 99% de dados faltantes - Descartar Coluna\n",
    "- **ASSISTMED:** Atendimento médico continuado que o paciente recebeu, ou não, durante a enfermidade que ocasionou o óbito. - 28% de dados faltantes - Int\n",
    "- **EXAME:** Realização de exame - 99% de dados faltantes - Descartar Coluna\n",
    "- **CIRURGIA:** Realização de cirurgia - 99% de dados faltantes - Descartar Coluna\n",
    "- **NECROPSIA:** Refere-se a execução ou não de necropsia para confirmação do diagnóstico - 28% de dados faltantes - Int\n",
    "- **LINHAA:** Causa terminal - doença ou estado mórbido que causou diretamente a morte - Str\n",
    "- **LINHAB:** Causa antecedente ou conseqüencial - estado mórbido, se existir, que produziu a causa direta da morte registrada na linha A - Str\n",
    "- **LINHAC:** Causa antecedente ou conseqüencial - estado mórbido, se existir, que produziu a causa direta da morte registrada na linha A - Str\n",
    "- **LINHAD:** Causa básica – estado mórbido, se existir, que produziu a causa direta da morte registrada na linha A - Str\n",
    "- **LINHAII:** Causa contribuinte - outras condições significativas que contribuíram para a morte e que não entraram na cadeia definida na Parte I - Str\n",
    "- **CAUSABAS:** Causa básica da DO - Str\n",
    "- **COMUNSVOIM:** Código do município do SVO ou do IML - 92% de dados faltantes - Descartar Coluna\n",
    "- **DTATESTADO:** Data do Atestado - Descartar Coluna\n",
    "- **CIRCOBITO:** Tipo de morte violenta ou circunstâncias em que se deu a morte não natural - 99% de dados faltantes - Descartar Coluna\n",
    "- **ACIDTRAB:** Indica se o evento que desencadeou o óbito está relacionado ao processo de trabalho - 99% de dados faltantes - Descartar Coluna\n",
    "- **FONTE:** Fonte de informação utilizada para o preenchimento dos campos 48 e 49 - Descartar Coluna\n",
    "- **TPPOS:** Óbito investigado - 100% de dados faltantes - Descartar Coluna\n",
    "- **DTINVESTIG:** Data da investigação do óbito - str - Descartar Coluna\n",
    "- **CAUSABAS_O:** Causa básica informada antes da resseleção - str\n",
    "- **DTCADASTRO:** Data do cadastro do óbito - Str - Descartar Coluna\n",
    "- **ATESTANTE:** Indica se o medico que assina atendeu o paciente - 10% de dados faltantes - Int\n",
    "- **FONTEINV:** Fonte de investigação - 86% de dados faltantes - Descartar Coluna\n",
    "- **DTRECEBIM:** Data do recebimento - Descartar Coluna\n",
    "- **CAUSAMAT:** CID da causa externa associada a uma causa materna - 100% de dados faltantes - Descartar Coluna\n",
    "- **ESC2010:** Escolaridade 2010. Nível da última série concluída pelo falecido - 7% de dados faltantes - Int\n",
    "- **ESCMAE2010:** Escolaridade 2010. Nível da última série concluída pela mãe - 100% de dados faltantes - Descartar Coluna\n",
    "- **DIFDATA:** Diferença entre a data de óbito e data do recebimento original da DO - Str - Descartar Coluna\n",
    "- **STDOEPIDEM:** Status de DO Epidemiológica - Int - Alzheimer não entra como DO epidemiológica - Descartar Coluna\n",
    "- **STDONOVA:** Status de DO Nova - Int - Controle técnico - Descartar Coluna\n",
    "- **DTCADINV:** Data do cadastro de investigação - Str\n",
    "- **TPOBITOCOR:** Momento da ocorrência do óbito - Int - Descartar Coluna\n",
    "- **DTCONINV:** Data da conclusão da investigação - Str\n",
    "- **DTCADINF:** Quando preenchido indica se a investigação foi realizada - Str\n",
    "- **MORTEPARTO:**\n",
    "- **DTCONCASO:** Data de conclusão do caso - Str - Descartar\n",
    "- **NUDIASOBIN:** Diferença entre a data óbito e a data conclusão da investigação, em dias - 99% dados faltantes - Descartar Coluna\n",
    "- **ANO:** Ano que a morte ocorreu - Str"
   ]
  },
  {
   "cell_type": "markdown",
   "metadata": {},
   "source": [
    "# 3. Processamento de Dados"
   ]
  },
  {
   "cell_type": "code",
   "execution_count": 16,
   "metadata": {},
   "outputs": [],
   "source": [
    "# 1. Descartar colunas irrelevantes\n",
    "\n",
    "df.drop(['CONTADOR', 'ORIGEM', 'TIPOBITO', 'DTOBITO', 'HORAOBITO', 'DTNASC', 'CODESTAB', 'IDADEMAE', 'ESCMAE', 'SERIESCMAE', 'OCUPMAE', 'QTDFILVIVO',\n",
    "        'QTDFILMORT', 'GRAVIDEZ', 'SEMAGESTAC', 'GESTACAO', 'PARTO', 'OBITOPARTO', 'PESO', 'TPMORTEOCO', 'OBITOGRAV', 'OBITOPUERP', 'EXAME', 'CIRURGIA',\n",
    "        'COMUNSVOIM', 'DTATESTADO', 'CIRCOBITO', 'ACIDTRAB', 'FONTE', 'TPPOS', 'DTINVESTIG', 'DTCADASTRO', 'FONTEINV', 'DTRECEBIM', 'CAUSAMAT', 'ESCMAE2010',\n",
    "        'DIFDATA', 'STDOEPIDEM', 'STDONOVA', 'DTCADINV', 'TPOBITOCOR', 'DTCONINV', 'DTCADINF', 'MORTEPARTO', 'DTCONCASO', 'NUDIASOBIN'], axis=1, inplace=True)\n"
   ]
  },
  {
   "cell_type": "code",
   "execution_count": 15,
   "metadata": {},
   "outputs": [],
   "source": [
    "# 2. Alterando o dtype dos dados\n",
    "\n",
    "for cols in col_names:\n",
    "    if cols not in colunms_str:\n",
    "        df[cols] = pd.to_numeric(df[cols], errors='coerce').astype('Int64')"
   ]
  },
  {
   "cell_type": "code",
   "execution_count": 17,
   "metadata": {},
   "outputs": [
    {
     "name": "stdout",
     "output_type": "stream",
     "text": [
      "<class 'pandas.core.frame.DataFrame'>\n",
      "RangeIndex: 157952 entries, 0 to 157951\n",
      "Data columns (total 22 columns):\n",
      " #   Column      Non-Null Count   Dtype \n",
      "---  ------      --------------   ----- \n",
      " 0   NATURAL0    129541 non-null  Int64 \n",
      " 1   IDADE       157952 non-null  Int64 \n",
      " 2   SEXO        157952 non-null  Int64 \n",
      " 3   RACACOR     153560 non-null  Int64 \n",
      " 4   ESTCIV      153950 non-null  Int64 \n",
      " 5   ESC         149470 non-null  Int64 \n",
      " 6   OCUP        139942 non-null  Int64 \n",
      " 7   CODMUNRES   157952 non-null  Int64 \n",
      " 8   LOCOCOR     157952 non-null  Int64 \n",
      " 9   CODMUNOCOR  157952 non-null  Int64 \n",
      " 10  ASSISTMED   112209 non-null  Int64 \n",
      " 11  NECROPSIA   112436 non-null  Int64 \n",
      " 12  LINHAA      152370 non-null  object\n",
      " 13  LINHAB      140046 non-null  object\n",
      " 14  LINHAC      105035 non-null  object\n",
      " 15  LINHAD      53835 non-null   object\n",
      " 16  LINHAII     45074 non-null   object\n",
      " 17  CAUSABAS    157952 non-null  object\n",
      " 18  CAUSABAS_O  157857 non-null  object\n",
      " 19  ATESTANTE   141626 non-null  Int64 \n",
      " 20  ESC2010     146055 non-null  Int64 \n",
      " 21  ANO         157952 non-null  Int64 \n",
      "dtypes: Int64(15), object(7)\n",
      "memory usage: 28.8+ MB\n"
     ]
    }
   ],
   "source": [
    "df.info()"
   ]
  },
  {
   "cell_type": "code",
   "execution_count": null,
   "metadata": {},
   "outputs": [],
   "source": [
    "# 3. Tratamento de Dados Faltantes\n",
    "\n"
   ]
  },
  {
   "cell_type": "code",
   "execution_count": 18,
   "metadata": {},
   "outputs": [
    {
     "data": {
      "text/html": [
       "<div>\n",
       "<style scoped>\n",
       "    .dataframe tbody tr th:only-of-type {\n",
       "        vertical-align: middle;\n",
       "    }\n",
       "\n",
       "    .dataframe tbody tr th {\n",
       "        vertical-align: top;\n",
       "    }\n",
       "\n",
       "    .dataframe thead th {\n",
       "        text-align: right;\n",
       "    }\n",
       "</style>\n",
       "<table border=\"1\" class=\"dataframe\">\n",
       "  <thead>\n",
       "    <tr style=\"text-align: right;\">\n",
       "      <th></th>\n",
       "      <th>NATURAL0</th>\n",
       "      <th>IDADE</th>\n",
       "      <th>SEXO</th>\n",
       "      <th>RACACOR</th>\n",
       "      <th>ESTCIV</th>\n",
       "      <th>ESC</th>\n",
       "      <th>OCUP</th>\n",
       "      <th>CODMUNRES</th>\n",
       "      <th>LOCOCOR</th>\n",
       "      <th>CODMUNOCOR</th>\n",
       "      <th>...</th>\n",
       "      <th>LINHAA</th>\n",
       "      <th>LINHAB</th>\n",
       "      <th>LINHAC</th>\n",
       "      <th>LINHAD</th>\n",
       "      <th>LINHAII</th>\n",
       "      <th>CAUSABAS</th>\n",
       "      <th>CAUSABAS_O</th>\n",
       "      <th>ATESTANTE</th>\n",
       "      <th>ESC2010</th>\n",
       "      <th>ANO</th>\n",
       "    </tr>\n",
       "  </thead>\n",
       "  <tbody>\n",
       "    <tr>\n",
       "      <th>0</th>\n",
       "      <td>815</td>\n",
       "      <td>485</td>\n",
       "      <td>1</td>\n",
       "      <td>1</td>\n",
       "      <td>2</td>\n",
       "      <td>5</td>\n",
       "      <td>&lt;NA&gt;</td>\n",
       "      <td>120040</td>\n",
       "      <td>1</td>\n",
       "      <td>120040</td>\n",
       "      <td>...</td>\n",
       "      <td>J189</td>\n",
       "      <td>G309</td>\n",
       "      <td>NaN</td>\n",
       "      <td>NaN</td>\n",
       "      <td>*I10X*J449</td>\n",
       "      <td>G309</td>\n",
       "      <td>G309</td>\n",
       "      <td>5</td>\n",
       "      <td>&lt;NA&gt;</td>\n",
       "      <td>2012</td>\n",
       "    </tr>\n",
       "    <tr>\n",
       "      <th>1</th>\n",
       "      <td>823</td>\n",
       "      <td>485</td>\n",
       "      <td>2</td>\n",
       "      <td>1</td>\n",
       "      <td>2</td>\n",
       "      <td>2</td>\n",
       "      <td>&lt;NA&gt;</td>\n",
       "      <td>120040</td>\n",
       "      <td>3</td>\n",
       "      <td>120040</td>\n",
       "      <td>...</td>\n",
       "      <td>I610</td>\n",
       "      <td>I10X</td>\n",
       "      <td>G309</td>\n",
       "      <td>NaN</td>\n",
       "      <td>NaN</td>\n",
       "      <td>I610</td>\n",
       "      <td>R99</td>\n",
       "      <td>5</td>\n",
       "      <td>&lt;NA&gt;</td>\n",
       "      <td>2012</td>\n",
       "    </tr>\n",
       "    <tr>\n",
       "      <th>2</th>\n",
       "      <td>812</td>\n",
       "      <td>494</td>\n",
       "      <td>2</td>\n",
       "      <td>&lt;NA&gt;</td>\n",
       "      <td>3</td>\n",
       "      <td>9</td>\n",
       "      <td>&lt;NA&gt;</td>\n",
       "      <td>120040</td>\n",
       "      <td>1</td>\n",
       "      <td>120040</td>\n",
       "      <td>...</td>\n",
       "      <td>J960</td>\n",
       "      <td>I10X</td>\n",
       "      <td>I500</td>\n",
       "      <td>G309</td>\n",
       "      <td>NaN</td>\n",
       "      <td>I10</td>\n",
       "      <td>I10</td>\n",
       "      <td>2</td>\n",
       "      <td>&lt;NA&gt;</td>\n",
       "      <td>2012</td>\n",
       "    </tr>\n",
       "    <tr>\n",
       "      <th>3</th>\n",
       "      <td>823</td>\n",
       "      <td>485</td>\n",
       "      <td>2</td>\n",
       "      <td>1</td>\n",
       "      <td>2</td>\n",
       "      <td>1</td>\n",
       "      <td>&lt;NA&gt;</td>\n",
       "      <td>120040</td>\n",
       "      <td>3</td>\n",
       "      <td>120040</td>\n",
       "      <td>...</td>\n",
       "      <td>G309</td>\n",
       "      <td>I509</td>\n",
       "      <td>NaN</td>\n",
       "      <td>NaN</td>\n",
       "      <td>*N19X</td>\n",
       "      <td>G309</td>\n",
       "      <td>G309</td>\n",
       "      <td>2</td>\n",
       "      <td>&lt;NA&gt;</td>\n",
       "      <td>2012</td>\n",
       "    </tr>\n",
       "    <tr>\n",
       "      <th>4</th>\n",
       "      <td>812</td>\n",
       "      <td>489</td>\n",
       "      <td>2</td>\n",
       "      <td>1</td>\n",
       "      <td>2</td>\n",
       "      <td>2</td>\n",
       "      <td>&lt;NA&gt;</td>\n",
       "      <td>120040</td>\n",
       "      <td>3</td>\n",
       "      <td>120040</td>\n",
       "      <td>...</td>\n",
       "      <td>R688</td>\n",
       "      <td>E149</td>\n",
       "      <td>J449</td>\n",
       "      <td>G309</td>\n",
       "      <td>*I694*E46</td>\n",
       "      <td>E149</td>\n",
       "      <td>E149</td>\n",
       "      <td>5</td>\n",
       "      <td>&lt;NA&gt;</td>\n",
       "      <td>2012</td>\n",
       "    </tr>\n",
       "  </tbody>\n",
       "</table>\n",
       "<p>5 rows × 22 columns</p>\n",
       "</div>"
      ],
      "text/plain": [
       "   NATURAL0  IDADE  SEXO  RACACOR  ESTCIV  ESC  OCUP  CODMUNRES  LOCOCOR  \\\n",
       "0       815    485     1        1       2    5  <NA>     120040        1   \n",
       "1       823    485     2        1       2    2  <NA>     120040        3   \n",
       "2       812    494     2     <NA>       3    9  <NA>     120040        1   \n",
       "3       823    485     2        1       2    1  <NA>     120040        3   \n",
       "4       812    489     2        1       2    2  <NA>     120040        3   \n",
       "\n",
       "   CODMUNOCOR  ...  LINHAA  LINHAB LINHAC LINHAD     LINHAII CAUSABAS  \\\n",
       "0      120040  ...    J189    G309    NaN    NaN  *I10X*J449     G309   \n",
       "1      120040  ...    I610    I10X   G309    NaN         NaN     I610   \n",
       "2      120040  ...    J960    I10X   I500   G309         NaN      I10   \n",
       "3      120040  ...    G309    I509    NaN    NaN       *N19X     G309   \n",
       "4      120040  ...    R688    E149   J449   G309   *I694*E46     E149   \n",
       "\n",
       "  CAUSABAS_O ATESTANTE ESC2010   ANO  \n",
       "0       G309         5    <NA>  2012  \n",
       "1        R99         5    <NA>  2012  \n",
       "2        I10         2    <NA>  2012  \n",
       "3       G309         2    <NA>  2012  \n",
       "4       E149         5    <NA>  2012  \n",
       "\n",
       "[5 rows x 22 columns]"
      ]
     },
     "execution_count": 18,
     "metadata": {},
     "output_type": "execute_result"
    }
   ],
   "source": [
    "df.head()"
   ]
  },
  {
   "cell_type": "code",
   "execution_count": null,
   "metadata": {},
   "outputs": [],
   "source": []
  },
  {
   "cell_type": "code",
   "execution_count": 19,
   "metadata": {},
   "outputs": [
    {
     "data": {
      "image/png": "[encoded data removed]",
      "text/plain": [
       "<Figure size 640x480 with 2 Axes>"
      ]
     },
     "metadata": {},
     "output_type": "display_data"
    }
   ],
   "source": [
    "df_cleaned = df.apply(pd.to_numeric, errors='coerce')\n",
    "\n",
    "correlation_matrix = df_cleaned.corr()\n",
    "\n",
    "sns.heatmap(correlation_matrix)\n",
    "plt.title(\"Correlation Heatmap\")\n",
    "plt.show()"
   ]
  },
  {
   "cell_type": "code",
   "execution_count": 20,
   "metadata": {},
   "outputs": [
    {
     "ename": "KeyError",
     "evalue": "\"['DIFDATA'] not in index\"",
     "output_type": "error",
     "traceback": [
      "\u001b[1;31m---------------------------------------------------------------------------\u001b[0m",
      "\u001b[1;31mKeyError\u001b[0m                                  Traceback (most recent call last)",
      "Cell \u001b[1;32mIn[20], line 3\u001b[0m\n\u001b[0;32m      1\u001b[0m target_columns \u001b[38;5;241m=\u001b[39m [\u001b[38;5;124m'\u001b[39m\u001b[38;5;124mNATURAL0\u001b[39m\u001b[38;5;124m'\u001b[39m, \u001b[38;5;124m'\u001b[39m\u001b[38;5;124mIDADE\u001b[39m\u001b[38;5;124m'\u001b[39m, \u001b[38;5;124m'\u001b[39m\u001b[38;5;124mSEXO\u001b[39m\u001b[38;5;124m'\u001b[39m, \u001b[38;5;124m'\u001b[39m\u001b[38;5;124mRACACOR\u001b[39m\u001b[38;5;124m'\u001b[39m, \u001b[38;5;124m'\u001b[39m\u001b[38;5;124mESTCIV\u001b[39m\u001b[38;5;124m'\u001b[39m, \u001b[38;5;124m'\u001b[39m\u001b[38;5;124mESC\u001b[39m\u001b[38;5;124m'\u001b[39m, \u001b[38;5;124m'\u001b[39m\u001b[38;5;124mOCUP\u001b[39m\u001b[38;5;124m'\u001b[39m, \u001b[38;5;124m'\u001b[39m\u001b[38;5;124mLOCOCOR\u001b[39m\u001b[38;5;124m'\u001b[39m, \u001b[38;5;124m'\u001b[39m\u001b[38;5;124mASSISTMED\u001b[39m\u001b[38;5;124m'\u001b[39m, \u001b[38;5;124m'\u001b[39m\u001b[38;5;124mNECROPSIA\u001b[39m\u001b[38;5;124m'\u001b[39m, \u001b[38;5;124m'\u001b[39m\u001b[38;5;124mLINHAA\u001b[39m\u001b[38;5;124m'\u001b[39m,\u001b[38;5;124m'\u001b[39m\u001b[38;5;124mLINHAB\u001b[39m\u001b[38;5;124m'\u001b[39m,\u001b[38;5;124m'\u001b[39m\u001b[38;5;124mLINHAC\u001b[39m\u001b[38;5;124m'\u001b[39m,\u001b[38;5;124m'\u001b[39m\u001b[38;5;124mLINHAD\u001b[39m\u001b[38;5;124m'\u001b[39m,\u001b[38;5;124m'\u001b[39m\u001b[38;5;124mLINHAII\u001b[39m\u001b[38;5;124m'\u001b[39m,\u001b[38;5;124m'\u001b[39m\u001b[38;5;124mCAUSABAS\u001b[39m\u001b[38;5;124m'\u001b[39m,\u001b[38;5;124m'\u001b[39m\u001b[38;5;124mDIFDATA\u001b[39m\u001b[38;5;124m'\u001b[39m,\u001b[38;5;124m'\u001b[39m\u001b[38;5;124mCAUSABAS_O\u001b[39m\u001b[38;5;124m'\u001b[39m]\n\u001b[1;32m----> 3\u001b[0m numeric_columns \u001b[38;5;241m=\u001b[39m df[target_columns]\u001b[38;5;241m.\u001b[39mselect_dtypes(include\u001b[38;5;241m=\u001b[39m[\u001b[38;5;124m'\u001b[39m\u001b[38;5;124mnumber\u001b[39m\u001b[38;5;124m'\u001b[39m])\u001b[38;5;241m.\u001b[39mcolumns\n\u001b[0;32m      5\u001b[0m \u001b[38;5;66;03m# Compute and plot the heatmap for numeric columns\u001b[39;00m\n\u001b[0;32m      6\u001b[0m sns\u001b[38;5;241m.\u001b[39mheatmap(df[numeric_columns]\u001b[38;5;241m.\u001b[39mcorr())\n",
      "File \u001b[1;32m~\\anaconda3\\Lib\\site-packages\\pandas\\core\\frame.py:4108\u001b[0m, in \u001b[0;36mDataFrame.__getitem__\u001b[1;34m(self, key)\u001b[0m\n\u001b[0;32m   4106\u001b[0m     \u001b[38;5;28;01mif\u001b[39;00m is_iterator(key):\n\u001b[0;32m   4107\u001b[0m         key \u001b[38;5;241m=\u001b[39m \u001b[38;5;28mlist\u001b[39m(key)\n\u001b[1;32m-> 4108\u001b[0m     indexer \u001b[38;5;241m=\u001b[39m \u001b[38;5;28mself\u001b[39m\u001b[38;5;241m.\u001b[39mcolumns\u001b[38;5;241m.\u001b[39m_get_indexer_strict(key, \u001b[38;5;124m\"\u001b[39m\u001b[38;5;124mcolumns\u001b[39m\u001b[38;5;124m\"\u001b[39m)[\u001b[38;5;241m1\u001b[39m]\n\u001b[0;32m   4110\u001b[0m \u001b[38;5;66;03m# take() does not accept boolean indexers\u001b[39;00m\n\u001b[0;32m   4111\u001b[0m \u001b[38;5;28;01mif\u001b[39;00m \u001b[38;5;28mgetattr\u001b[39m(indexer, \u001b[38;5;124m\"\u001b[39m\u001b[38;5;124mdtype\u001b[39m\u001b[38;5;124m\"\u001b[39m, \u001b[38;5;28;01mNone\u001b[39;00m) \u001b[38;5;241m==\u001b[39m \u001b[38;5;28mbool\u001b[39m:\n",
      "File \u001b[1;32m~\\anaconda3\\Lib\\site-packages\\pandas\\core\\indexes\\base.py:6200\u001b[0m, in \u001b[0;36mIndex._get_indexer_strict\u001b[1;34m(self, key, axis_name)\u001b[0m\n\u001b[0;32m   6197\u001b[0m \u001b[38;5;28;01melse\u001b[39;00m:\n\u001b[0;32m   6198\u001b[0m     keyarr, indexer, new_indexer \u001b[38;5;241m=\u001b[39m \u001b[38;5;28mself\u001b[39m\u001b[38;5;241m.\u001b[39m_reindex_non_unique(keyarr)\n\u001b[1;32m-> 6200\u001b[0m \u001b[38;5;28mself\u001b[39m\u001b[38;5;241m.\u001b[39m_raise_if_missing(keyarr, indexer, axis_name)\n\u001b[0;32m   6202\u001b[0m keyarr \u001b[38;5;241m=\u001b[39m \u001b[38;5;28mself\u001b[39m\u001b[38;5;241m.\u001b[39mtake(indexer)\n\u001b[0;32m   6203\u001b[0m \u001b[38;5;28;01mif\u001b[39;00m \u001b[38;5;28misinstance\u001b[39m(key, Index):\n\u001b[0;32m   6204\u001b[0m     \u001b[38;5;66;03m# GH 42790 - Preserve name from an Index\u001b[39;00m\n",
      "File \u001b[1;32m~\\anaconda3\\Lib\\site-packages\\pandas\\core\\indexes\\base.py:6252\u001b[0m, in \u001b[0;36mIndex._raise_if_missing\u001b[1;34m(self, key, indexer, axis_name)\u001b[0m\n\u001b[0;32m   6249\u001b[0m     \u001b[38;5;28;01mraise\u001b[39;00m \u001b[38;5;167;01mKeyError\u001b[39;00m(\u001b[38;5;124mf\u001b[39m\u001b[38;5;124m\"\u001b[39m\u001b[38;5;124mNone of [\u001b[39m\u001b[38;5;132;01m{\u001b[39;00mkey\u001b[38;5;132;01m}\u001b[39;00m\u001b[38;5;124m] are in the [\u001b[39m\u001b[38;5;132;01m{\u001b[39;00maxis_name\u001b[38;5;132;01m}\u001b[39;00m\u001b[38;5;124m]\u001b[39m\u001b[38;5;124m\"\u001b[39m)\n\u001b[0;32m   6251\u001b[0m not_found \u001b[38;5;241m=\u001b[39m \u001b[38;5;28mlist\u001b[39m(ensure_index(key)[missing_mask\u001b[38;5;241m.\u001b[39mnonzero()[\u001b[38;5;241m0\u001b[39m]]\u001b[38;5;241m.\u001b[39munique())\n\u001b[1;32m-> 6252\u001b[0m \u001b[38;5;28;01mraise\u001b[39;00m \u001b[38;5;167;01mKeyError\u001b[39;00m(\u001b[38;5;124mf\u001b[39m\u001b[38;5;124m\"\u001b[39m\u001b[38;5;132;01m{\u001b[39;00mnot_found\u001b[38;5;132;01m}\u001b[39;00m\u001b[38;5;124m not in index\u001b[39m\u001b[38;5;124m\"\u001b[39m)\n",
      "\u001b[1;31mKeyError\u001b[0m: \"['DIFDATA'] not in index\""
     ]
    }
   ],
   "source": [
    "target_columns = ['NATURAL0', 'IDADE', 'SEXO', 'RACACOR', 'ESTCIV', 'ESC', 'OCUP', 'LOCOCOR', 'ASSISTMED', 'NECROPSIA', 'LINHAA','LINHAB','LINHAC','LINHAD','LINHAII','CAUSABAS','DIFDATA','CAUSABAS_O']\n",
    "\n",
    "numeric_columns = df[target_columns].select_dtypes(include=['number']).columns\n",
    "\n",
    "# Compute and plot the heatmap for numeric columns\n",
    "sns.heatmap(df[numeric_columns].corr())\n",
    "plt.title(\"Correlation Heatmap for Numeric Columns\")\n",
    "plt.show()"
   ]
  },
  {
   "cell_type": "code",
   "execution_count": null,
   "metadata": {},
   "outputs": [],
   "source": [
    "from sklearn.preprocessing import LabelEncoder\n",
    "\n",
    "# Encode non-numeric columns\n",
    "df_cleaned = df.copy()[target_columns]\n",
    "non_numeric_columns = df_cleaned.select_dtypes(exclude=['number']).columns\n",
    "label_encoders = {}\n",
    "\n",
    "for column in non_numeric_columns:\n",
    "    le = LabelEncoder()\n",
    "    df_cleaned[column] = le.fit_transform(df_cleaned[column].astype(str))\n",
    "    label_encoders[column] = le\n",
    "\n",
    "sns.heatmap(df_cleaned.corr())\n"
   ]
  },
  {
   "cell_type": "markdown",
   "metadata": {},
   "source": [
    "# Limpando os 40%+ nulos"
   ]
  },
  {
   "cell_type": "code",
   "execution_count": null,
   "metadata": {},
   "outputs": [],
   "source": [
    "sns.heatmap(df.isnull())"
   ]
  },
  {
   "cell_type": "code",
   "execution_count": null,
   "metadata": {},
   "outputs": [],
   "source": [
    "threshold = 0.4\n",
    "df = df.loc[:, df.isnull().mean() < threshold]\n",
    "df.head()"
   ]
  },
  {
   "cell_type": "code",
   "execution_count": null,
   "metadata": {},
   "outputs": [],
   "source": [
    "df_cleaned = df.apply(pd.to_numeric, errors='coerce')\n",
    "sns.heatmap(df_cleaned.corr())"
   ]
  },
  {
   "cell_type": "markdown",
   "metadata": {},
   "source": [
    "# Mapa Som"
   ]
  },
  {
   "cell_type": "code",
   "execution_count": null,
   "metadata": {},
   "outputs": [],
   "source": [
    "from minisom import MiniSom\n",
    "from sklearn import datasets\n",
    "from sklearn.preprocessing import MinMaxScaler"
   ]
  },
  {
   "cell_type": "code",
   "execution_count": null,
   "metadata": {},
   "outputs": [],
   "source": [
    "df_cleaned.head()"
   ]
  },
  {
   "cell_type": "code",
   "execution_count": null,
   "metadata": {},
   "outputs": [],
   "source": [
    "data_sus_normalized = MinMaxScaler().fit_transform(df_cleaned)"
   ]
  }
 ],
 "metadata": {
  "kernelspec": {
   "display_name": "Python 3 (ipykernel)",
   "language": "python",
   "name": "python3"
  },
  "language_info": {
   "codemirror_mode": {
    "name": "ipython",
    "version": 3
   },
   "file_extension": ".py",
   "mimetype": "text/x-python",
   "name": "python",
   "nbconvert_exporter": "python",
   "pygments_lexer": "ipython3",
   "version": "3.12.4"
  }
 },
 "nbformat": 4,
 "nbformat_minor": 4
}
